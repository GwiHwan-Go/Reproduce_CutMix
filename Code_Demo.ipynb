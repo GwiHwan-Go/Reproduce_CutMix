{
 "cells": [
  {
   "cell_type": "markdown",
   "metadata": {},
   "source": [
    "# Index\n",
    "\n",
    "## 1. Introduce Dataset\n",
    "----------------------------\n",
    "##### 1-1. cifar-100 \n",
    "##### 1-2. Tiny-Imagenet\n",
    "\n",
    "## 2. Introduce Algorithm\n",
    "----------------------------\n",
    "##### 2-1. Cutout\n",
    "##### 2-2. Mixup\n",
    "#### 2-3. *CutMix*\n",
    "##### 2-4. Compare\n",
    "\n",
    "## 3. Introduce Models\n",
    "----------------------------\n",
    "##### 3-1. ResNet-50\n",
    "##### 3-2. PyramidNet-110 & 200\n",
    "\n",
    "## 4. Introduce Training Process\n",
    "----------------------------\n",
    "##### 4-1. Hyper-Params\n",
    "##### 4-2. Loss functions per every methods\n",
    "##### 4-3. Savepoint\n",
    "\n",
    "## 5. Show results\n",
    "----------------------------\n",
    "##### 5-1. introduce every experiments\n",
    "##### 5-2. Compare Results with paper\n"
   ]
  },
  {
   "cell_type": "markdown",
   "metadata": {},
   "source": []
  }
 ],
 "metadata": {
  "interpreter": {
   "hash": "61a57a4b5406d2de388e2f91097d4e4bcd7d5f4a46f53a795aa28a02eed27fc5"
  },
  "kernelspec": {
   "display_name": "Python 3.7.4 ('base')",
   "language": "python",
   "name": "python3"
  },
  "language_info": {
   "name": "python",
   "version": "3.7.4"
  },
  "orig_nbformat": 4
 },
 "nbformat": 4,
 "nbformat_minor": 2
}
