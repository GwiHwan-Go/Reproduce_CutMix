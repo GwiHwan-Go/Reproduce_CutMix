{
 "cells": [
  {
   "cell_type": "markdown",
   "metadata": {},
   "source": [
    "# Index\n",
    "\n",
    "## 1. Introduce Dataset\n",
    "----------------------------\n",
    "##### 1-1. cifar-100 \n",
    "##### 1-2. Tiny-Imagenet\n",
    "\n",
    "## 2. Introduce Algorithm\n",
    "----------------------------\n",
    "##### 2-1. Cutout\n",
    "##### 2-2. Mixup\n",
    "#### 2-3. *CutMix*\n",
    "##### 2-4. Compare\n",
    "\n",
    "## 3. Introduce Models\n",
    "----------------------------\n",
    "##### 3-1. ResNet-50\n",
    "##### 3-2. PyramidNet-110 & 200\n",
    "\n",
    "## 4. Introduce Training Process\n",
    "----------------------------\n",
    "##### 4-1. Hyper-Params\n",
    "##### 4-2. Loss functions per every methods\n",
    "##### 4-3. Savepoint\n",
    "\n",
    "## 5. Show results\n",
    "----------------------------\n",
    "##### 5-1. introduce every experiments\n",
    "##### 5-2. Compare Results with paper\n"
   ]
  },
  {
   "cell_type": "code",
   "execution_count": null,
   "metadata": {},
   "outputs": [],
   "source": [
    "import numpy as np\n",
    "\n",
    "def cut(W,H,lam):\n",
    "        \n",
    "    cut_rat = np.sqrt(1. - lam)\n",
    "    cut_w = np.int64(W * cut_rat)\n",
    "    cut_h = np.int64(H * cut_rat)\n",
    "\n",
    "    # uniform\n",
    "    cx = np.random.randint(W)\n",
    "    cy = np.random.randint(H)\n",
    "\n",
    "    bbx1 = np.clip(cx - cut_w // 2, 0, W)\n",
    "    bby1 = np.clip(cy - cut_h // 2, 0, H)\n",
    "    bbx2 = np.clip(cx + cut_w // 2, 0, W)\n",
    "    bby2 = np.clip(cy + cut_h // 2, 0, H)\n",
    "\n",
    "    return bbx1, bby1, bbx2, bby2"
   ]
  },
  {
   "cell_type": "code",
   "execution_count": null,
   "metadata": {},
   "outputs": [],
   "source": [
    "images, labels = next(iter(valid_loader))\n",
    "rand_index = torch.randperm(images.shape[0])\n",
    "shuffled_images = images[rand_index]\n",
    "lam = np.random.beta(1.0, 1.0)\n",
    "cutmix_images = images.clone().detach()\n",
    "cutout_images = images.clone().detach() \n",
    "mixup_images = images.clone().detach() \n",
    "\n",
    "bbx1, bby1, bbx2, bby2 = cut(images.shape[2], images.shape[3], lam) # define a box to cut and mix\n",
    "\n",
    "## CUTMIX ##\n",
    "cutmix_images[:, :, bbx1:bbx2, bby1:bby2] = cutmix_images[rand_index, :, bbx1:bbx2, bby1:bby2]\n",
    "## CUTOUT ##\n",
    "cutout_images[:, :, bbx1:bbx2, bby1:bby2] = 0.\n",
    "## MIXUP ##\n",
    "mixup_images = lam * mixup_images + (1 - lam) * mixup_images[rand_index,:,:]"
   ]
  },
  {
   "cell_type": "code",
   "execution_count": null,
   "metadata": {},
   "outputs": [],
   "source": [
    "  \n",
    "def show_cutMixed_compare(row1, row2, row3, row4, nums_show):\n",
    "    rand_index = torch.randperm(row1.size()[0])[:nums_show]\n",
    "    to_compare = torch.cat([row1[rand_index,:,:],row2[rand_index,:,:],row3[rand_index,:,:],row4[rand_index,:,:]],dim=0)\n",
    "    plt.figure(figsize=(50,50))\n",
    "    grid = torchvision.utils.make_grid(tensor=to_compare, nrow=nums_show)\n",
    "    plt.ylabel(\"Cutout | Mixup | CutMix | Image\",fontsize=165, rotation = 90)\n",
    "    plt.title(\"Comparison between augmentations\", fontsize=100)\n",
    "    plt.imshow(grid.permute(1,2,0))\n",
    "\n",
    "show_cutMixed_compare(images, cutmix_images, mixup_images, cutout_images, 4)"
   ]
  }
 ],
 "metadata": {
  "interpreter": {
   "hash": "61a57a4b5406d2de388e2f91097d4e4bcd7d5f4a46f53a795aa28a02eed27fc5"
  },
  "kernelspec": {
   "display_name": "Python 3.7.4 ('base')",
   "language": "python",
   "name": "python3"
  },
  "language_info": {
   "name": "python",
   "version": "3.7.4"
  },
  "orig_nbformat": 4
 },
 "nbformat": 4,
 "nbformat_minor": 2
}
