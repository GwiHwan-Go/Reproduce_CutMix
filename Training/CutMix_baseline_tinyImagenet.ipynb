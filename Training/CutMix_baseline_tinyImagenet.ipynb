{
  "cells": [
    {
      "cell_type": "markdown",
      "metadata": {
        "colab_type": "text",
        "id": "view-in-github"
      },
      "source": [
        "<a href=\"https://colab.research.google.com/github/GwiHwan-Go/Reproduce_CutMix/blob/main/Training/CutMix_baseline_tinyImagenet.ipynb\" target=\"_parent\"><img src=\"https://colab.research.google.com/assets/colab-badge.svg\" alt=\"Open In Colab\"/></a>"
      ]
    },
    {
      "cell_type": "code",
      "execution_count": 1,
      "metadata": {
        "colab": {
          "base_uri": "https://localhost:8080/"
        },
        "id": "cLDkuabL0J8U",
        "outputId": "1ccb0c0e-4715-4f81-b63d-5b1796fd1859"
      },
      "outputs": [
        {
          "name": "stdout",
          "output_type": "stream",
          "text": [
            "--2022-05-18 17:21:18--  http://cs231n.stanford.edu/tiny-imagenet-200.zip\n",
            "Resolving cs231n.stanford.edu (cs231n.stanford.edu)... 171.64.68.10\n",
            "Connecting to cs231n.stanford.edu (cs231n.stanford.edu)|171.64.68.10|:80... connected.\n",
            "HTTP request sent, awaiting response... 200 OK\n",
            "Length: 248100043 (237M) [application/zip]\n",
            "Saving to: ‘tiny-imagenet-200.zip’\n",
            "\n",
            "tiny-imagenet-200.z 100%[===================>] 236.61M  5.75MB/s    in 57s     \n",
            "\n",
            "2022-05-18 17:22:21 (4.12 MB/s) - ‘tiny-imagenet-200.zip’ saved [248100043/248100043]\n",
            "\n",
            "test  train  val  wnids.txt  words.txt\n"
          ]
        }
      ],
      "source": [
        "!wget http://cs231n.stanford.edu/tiny-imagenet-200.zip\n",
        "!unzip -q tiny-imagenet-200.zip && ls tiny-imagenet-200"
      ]
    },
    {
      "cell_type": "code",
      "execution_count": 1,
      "metadata": {
        "id": "67Ivu_CD0ScN"
      },
      "outputs": [],
      "source": [
        "import json\n",
        "import os\n",
        "import torch\n"
      ]
    },
    {
      "cell_type": "code",
      "execution_count": 2,
      "metadata": {},
      "outputs": [
        {
          "name": "stdout",
          "output_type": "stream",
          "text": [
            "0.0\n"
          ]
        }
      ],
      "source": [
        "print(torch.cuda.memory_allocated()/1024**2)\n"
      ]
    },
    {
      "cell_type": "code",
      "execution_count": 3,
      "metadata": {
        "id": "LlBoPbvb05Sf"
      },
      "outputs": [],
      "source": [
        "\n",
        "from torchvision.transforms import ToTensor\n",
        "import torchvision.transforms as transforms\n",
        "\n",
        "from PIL import Image\n",
        "from torch.utils.data import Dataset\n",
        "from torch.utils.data.dataloader import *\n",
        "import cv2 # OpenCV\n"
      ]
    },
    {
      "cell_type": "code",
      "execution_count": 4,
      "metadata": {},
      "outputs": [
        {
          "data": {
            "text/plain": [
              "200"
            ]
          },
          "execution_count": 4,
          "metadata": {},
          "output_type": "execute_result"
        }
      ],
      "source": [
        "with open('./tiny-imagenet-200/wnids.txt', 'r') as f :\n",
        "  label_id = f.readlines()\n",
        "label_id = [i[:-1] for i in label_id]\n",
        "len(label_id)"
      ]
    },
    {
      "cell_type": "code",
      "execution_count": 5,
      "metadata": {},
      "outputs": [],
      "source": [
        "def parseClasses(file):\n",
        "    classes = []\n",
        "    filenames = []\n",
        "    with open(file) as f:\n",
        "        lines = f.readlines()\n",
        "    lines = [x.strip() for x in lines]\n",
        "    for x in range(0,len(lines)):\n",
        "        tokens = lines[x].split()\n",
        "        classes.append(tokens[1])\n",
        "        filenames.append(tokens[0])\n",
        "    return filenames,classes\n",
        "    \n",
        "class TImgNetDataset(Dataset):\n",
        "    \"\"\"Dataset wrapping images and ground truths.\"\"\"\n",
        "    \n",
        "    def __init__(self, img_path, gt_path, class_to_idx=None, transform=None):\n",
        "        self.img_path = img_path\n",
        "        self.transform = transform\n",
        "        self.gt_path = gt_path\n",
        "        self.class_to_idx = class_to_idx\n",
        "        self.classidx = []\n",
        "        self.imgs, self.classnames = parseClasses(gt_path)\n",
        "        for classname in self.classnames:\n",
        "            self.classidx.append(self.class_to_idx[classname])\n",
        "\n",
        "    def __getitem__(self, index):\n",
        "            \"\"\"\n",
        "            Args:\n",
        "                index (int): Index\n",
        "            Returns:\n",
        "                tuple: (image, y) where y is the label of the image.\n",
        "            \"\"\"\n",
        "            img = None\n",
        "            with open(os.path.join(self.img_path, self.imgs[index]), 'rb') as f:\n",
        "                img = Image.open(f)\n",
        "                img = img.convert('RGB')\n",
        "                if self.transform is not None:\n",
        "                    img = self.transform(img)\n",
        "            y = self.classidx[index]\n",
        "            return img, y\n",
        "\n",
        "    def __len__(self):\n",
        "        return len(self.imgs)"
      ]
    },
    {
      "cell_type": "code",
      "execution_count": 6,
      "metadata": {
        "id": "fMEbjtc41sfl"
      },
      "outputs": [],
      "source": [
        "batch_size = 256\n",
        "normalize = transforms.Normalize(mean=[0.485, 0.456, 0.406],\n",
        "                                     std=[0.229, 0.224, 0.225])\n",
        "\n",
        "train_transform = transforms.Compose([\n",
        "            transforms.Resize(224),\n",
        "            transforms.RandomHorizontalFlip(),\n",
        "            transforms.ToTensor(),\n",
        "            normalize,\n",
        "\n",
        "        ])\n",
        "test_transform = transforms.Compose([\n",
        "            transforms.Resize(224),\n",
        "            transforms.ToTensor(),\n",
        "            normalize,\n",
        "\n",
        "        ])"
      ]
    },
    {
      "cell_type": "code",
      "execution_count": 7,
      "metadata": {},
      "outputs": [],
      "source": [
        "import torchvision.datasets as datasets\n",
        "import numpy as np\n",
        "\n",
        "train_set = datasets.ImageFolder(\"./tiny-imagenet-200/train\", transform=train_transform)\n",
        "train_loader = DataLoader(train_set, batch_size=batch_size, shuffle=True)\n",
        "\n",
        "val_set = TImgNetDataset(\"./tiny-imagenet-200/val/images\", \"./tiny-imagenet-200/val/val_annotations.txt\", class_to_idx=train_loader.dataset.class_to_idx.copy(),\n",
        "            transform=test_transform)\n",
        "valid_loader = DataLoader(val_set[:256], batch_size=batch_size, shuffle=False)\n",
        "\n",
        "test_set = datasets.ImageFolder(\"./tiny-imagenet-200/test\", transform=test_transform)\n",
        "test_loader = DataLoader(test_set, batch_size=batch_size, shuffle=False)\n",
        "\n",
        "def cut(W,H,lam):\n",
        "        \n",
        "    cut_rat = np.sqrt(1. - lam)\n",
        "    cut_w = np.int64(W * cut_rat)\n",
        "    cut_h = np.int64(H * cut_rat)\n",
        "\n",
        "    # uniform\n",
        "    cx = np.random.randint(W)\n",
        "    cy = np.random.randint(H)\n",
        "\n",
        "    bbx1 = np.clip(cx - cut_w // 2, 0, W)\n",
        "    bby1 = np.clip(cy - cut_h // 2, 0, H)\n",
        "    bbx2 = np.clip(cx + cut_w // 2, 0, W)\n",
        "    bby2 = np.clip(cy + cut_h // 2, 0, H)\n",
        "\n",
        "    return bbx1, bby1, bbx2, bby2"
      ]
    },
    {
      "cell_type": "code",
      "execution_count": 8,
      "metadata": {
        "colab": {
          "base_uri": "https://localhost:8080/"
        },
        "id": "B5jYc2z_-4WC",
        "outputId": "b9c8f4c1-5533-439d-d63b-11d95907494d"
      },
      "outputs": [
        {
          "name": "stdout",
          "output_type": "stream",
          "text": [
            "cuda\n"
          ]
        }
      ],
      "source": [
        "from torch.nn import Linear\n",
        "from torchvision import models\n",
        "\n",
        "# resnet50 Model Loading\n",
        "use_pretrained = False\n",
        "model = models.resnet50(pretrained=use_pretrained)\n",
        "## 우리 이미지 사이즈에 맞게 튜닝\n",
        "\n",
        "model.fc = torch.nn.Linear(2048, 200) \n",
        "\n",
        "device = torch.device('cuda' if torch.cuda.is_available() else 'cpu')\n",
        "print(device)\n",
        "# model = model.to(device)"
      ]
    },
    {
      "cell_type": "code",
      "execution_count": 33,
      "metadata": {
        "id": "okjl695q-9ze"
      },
      "outputs": [],
      "source": [
        "import torch.optim as optim\n",
        "import torch.nn as nn\n",
        "from tqdm.auto import tqdm, trange\n",
        "\n",
        "    \n",
        "def accuracy(output, target, topk=(1,)):\n",
        "    \"\"\"Computes the precision@k for the specified values of k\"\"\"\n",
        "    maxk = max(topk)\n",
        "    batch_size = target.size(0)\n",
        "\n",
        "    _, pred = output.topk(maxk, 1, True, True)\n",
        "    pred = pred.t()\n",
        "    correct = pred.eq(target.view(1, -1).expand_as(pred))\n",
        "\n",
        "    res = []\n",
        "    for k in topk:\n",
        "        correct_k = correct[:k].contiguous().view(-1).float().sum(0, keepdim=True)\n",
        "        wrong_k = batch_size - correct_k\n",
        "        res.append(wrong_k.mul_(100.0 / batch_size))\n",
        "    return res\n",
        "    \n",
        "def train_model(model, \n",
        "                train, \n",
        "                valid,\n",
        "                resume = None,\n",
        "                n_iters=300, \n",
        "                learn_rate=0.1, \n",
        "                weight_decay=0, \n",
        "                which_method=0\n",
        "                ):  # Lists to store model's performance information\n",
        "  po = 0\n",
        "  top1_errs, top5_errs, train_losses = [], [], []\n",
        "  criterion = nn.CrossEntropyLoss()\n",
        "  optimizer = optim.SGD(model.parameters(), lr=learn_rate, momentum=0.9, weight_decay=weight_decay)\n",
        "  device = torch.device('cuda' if torch.cuda.is_available() else 'cpu')\n",
        "  print(f\"we are going to use {device}\")\n",
        "###############Checkpoint Zone################\n",
        "  if resume is not None :\n",
        "    checkpoint = torch.load(resume) \n",
        "    model.load_state_dict(checkpoint['model_state_dict'])\n",
        "    loss = checkpoint['loss']\n",
        "    num_epochs = checkpoint['total_epochs'] - checkpoint['epoch']\n",
        "    top1_errs = checkpoint['top1_err']\n",
        "    top5_errs = checkpoint['top5_err']\n",
        "  else :\n",
        "    num_epochs = n_iters\n",
        "###############Checkpoint Zone###############\n",
        "  \n",
        "  print(f\"We still have to go {num_epochs} epochs\" )\n",
        "  for i in trange(num_epochs):\n",
        "\n",
        "    ##############################learning_decay#####################################\n",
        "    if (num_epochs-i) < 75 :\n",
        "      newpo = 3\n",
        "    elif (num_epochs-i) < 150 :\n",
        "      newpo = 2\n",
        "    elif (num_epochs-i) < 225 :\n",
        "      newpo = 1\n",
        "    else :\n",
        "      newpo = 0\n",
        "    if po != newpo :\n",
        "      po = newpo\n",
        "      lr = learn_rate * (0.1 ** po) ##learning_decay\n",
        "      print(f\"lr has decayed to {lr}\")\n",
        "      optimizer = optim.SGD(model.parameters(), lr=lr, momentum=0.9, weight_decay=weight_decay)\n",
        "    ##############################learning_decay#####################################\n",
        "\n",
        "    try :\n",
        "      for images, labels in tqdm(train) :\n",
        "\n",
        "        images, labels = images.to(device), labels.to(device)\n",
        "        model = model.to(device)\n",
        "        model.train() # For Dropout and Batch Norm layers #\n",
        "\n",
        "        if which_method and (np.random.rand()<0.5) :\n",
        "\n",
        "          lam = np.random.beta(1.0, 1.0)\n",
        "          rand_index = torch.randperm(images.size()[0])\n",
        "          shuffled_labels = labels[rand_index]\n",
        "\n",
        "          ##############Do Something On Data###############\n",
        "          if which_method == 1 : ##cutmix\n",
        "            bbx1, bby1, bbx2, bby2 = cut(images.shape[2], images.shape[3], lam) # define a box to cut and mix\n",
        "            images[:, :, bbx1:bbx2, bby1:bby2] = images[rand_index, :, bbx1:bbx2, bby1:bby2] #cut and mix\n",
        "            lam = 1 - ((bbx2 - bbx1) * (bby2 - bby1) / (images.shape[-1] * images.shape[-2]))\n",
        "          if which_method == 2 : ##mixup\n",
        "            images = lam * images + (1 - lam) * images[rand_index,:,:]\n",
        "          if which_method == 3 : ##cutout\n",
        "            bbx1, bby1, bbx2, bby2 = cut(images.shape[2], images.shape[3], lam) # define a box to cut and mix\n",
        "            images[:, :, bbx1:bbx2, bby1:bby2] = 0.\n",
        "          ##############Do Something On Data###############\n",
        "\n",
        "          #############Forward Pass##############\n",
        "          out = model(images) \n",
        "          #############Forward Pass##############\n",
        "\n",
        "          ##############Modify Loss Function###############\n",
        "          if which_method == 1 : ##cutmix\n",
        "            loss = criterion(out, labels) * lam + criterion(out, shuffled_labels)*(1.0-lam) # compute the total loss\n",
        "          if which_method == 2 : ##mixup\n",
        "            loss = criterion(out, labels) * lam + criterion(out, shuffled_labels)*(1.0-lam)\n",
        "          if which_method == 3 : ##cutout\n",
        "            loss = criterion(out, labels)\n",
        "          ##############Modify Loss Function###############\n",
        "\n",
        "        else : ## if random.rand > 0.5 or which_method == 0\n",
        "          \n",
        "          out = model(images)\n",
        "          loss = criterion(out, labels)\n",
        "\n",
        "        loss.backward()               # backward pass (compute parameter updates)\n",
        "        optimizer.step()              # make the updates for each parameter\n",
        "        optimizer.zero_grad()         # reset the gradients for the next iteration\n",
        "      \n",
        "      #####################model Evaluation#############\n",
        "      sum_top1, sum_top5 = 0,0\n",
        "      \n",
        "                \n",
        "      with torch.no_grad():\n",
        "        model.eval()\n",
        "        for images, labels in valid :\n",
        "\n",
        "          images,labels = images.to(device), labels.to(device)\n",
        "          \n",
        "          output = model(images)\n",
        "          \n",
        "          top1, top5 = accuracy(output, labels, topk=(1,5))\n",
        "   \n",
        "          sum_top1+=top1.item()\n",
        "\n",
        "          sum_top5+=top5.item()\n",
        "      \n",
        "      size = len(valid)\n",
        "      #####################model Evaluation#############\n",
        "\n",
        "      ###################save history#####################\n",
        "      train_losses.append(loss.item())\n",
        "      top1_errs.append(sum_top1/size)\n",
        "      top5_errs.append(sum_top5/size)\n",
        "      ###################save history#####################\n",
        "\n",
        "      if (i+1) % 10 == 0 :\n",
        "\n",
        "        PATH=f\"./{300-(num_epochs-i)}th_checkpoint.pt\"\n",
        "        torch.save({'total_epochs':num_epochs, 'epoch': i, 'model_state_dict': model.state_dict(), \n",
        "        'optimizer_state_dict': optimizer.state_dict(), 'loss': loss, 'top1_err': top1_errs, 'top5_err': top5_errs, 'train_loss':train_losses }, PATH)\n",
        "        print(f\"Successfully saved untill {i} step in {PATH} with model, optimizer, and loss.\")\n",
        "\n",
        "    except :\n",
        "      PATH=f\"./{300-(num_epochs-i)}th_checkpoint.pt\"\n",
        "      torch.save({'total_epochs':num_epochs, 'epoch': i, 'model_state_dict': model.state_dict(), \n",
        "      'optimizer_state_dict': optimizer.state_dict(), 'loss': loss, 'top1_err': top1_errs, 'top5_err': top5_errs , 'train_loss':train_losses}, PATH)\n",
        "      print(f\"Successfully saved untill {i} step in {PATH} with model, optimizer, and loss.\")\n",
        "      return [top1_errs,top5_errs]\n",
        "\n",
        "  PATH = \"./trained.pt\"\n",
        "  print(\"train finished\")\n",
        "  print(f\"Successfully saved untill {n_iters} step in {PATH} with model, optimizer, and loss.\")\n",
        "  torch.save({'total_epochs':num_epochs, 'epoch': i, 'model_state_dict': model.state_dict(), \n",
        "  'optimizer_state_dict': optimizer.state_dict(), 'loss': loss, 'top1_err': top1_errs, 'top5_err': top5_errs, 'train_loss':train_losses}, PATH)\n",
        "  return [top1_errs,top5_errs]\n"
      ]
    },
    {
      "cell_type": "code",
      "execution_count": 32,
      "metadata": {},
      "outputs": [
        {
          "name": "stdout",
          "output_type": "stream",
          "text": [
            "185.65576171875\n",
            "185.65576171875\n"
          ]
        }
      ],
      "source": [
        "import torch\n",
        "print(torch.cuda.memory_allocated()/1024**2)\n",
        "import gc\n",
        "gc.collect()\n",
        "a = torch.cuda.empty_cache() \n",
        "print(torch.cuda.memory_allocated()/1024**2)\n"
      ]
    },
    {
      "cell_type": "code",
      "execution_count": 34,
      "metadata": {
        "colab": {
          "base_uri": "https://localhost:8080/",
          "height": 1000,
          "referenced_widgets": [
            "26ba3c6f7ac5458586d61392e6b08481",
            "d67e910d390f468681ed63c75e3ba377",
            "9539ccefb8e84c07a37b203c71538b1b",
            "6f1391c8413842558f690f241d6344a9",
            "93ad2359c2684c519b196d8fb48ccd88",
            "fba5630295924523a59614f2a59aa2a0",
            "7d97c0892d1c42749fceb25d9382aaf4",
            "8c361305ce90418b9e73ff8298c4764f",
            "ab26faab1c2e4d289be7c16be208f565",
            "26e3c8fe692a4ae099e7a29c16f1a4b0",
            "2547b1f8bcf94a5a97ed5c9e7a55f075",
            "3f3cb5656ebe4f6596753e638b32656b",
            "a934feaa872d4b77984a814cc8ad5319",
            "1e08bd0f767542ada7218e74742198e4",
            "15613b9786a74da4a75e5f39ec874292",
            "de47dd68f51441e09916b5f02512c09e",
            "a6916a8ddf254bcc9641d17e1c14f0c2",
            "ba3adfc10833412c85202dd1f156d298",
            "a0b192006de24ba9b02c994c63cae150",
            "db63d46940b848baac5e14942ff78a6a",
            "87876da5cac4496bb04bf78a0760d5af",
            "6de3836937bf443c90e171d398cfafeb"
          ]
        },
        "id": "l18T9JQjAPKW",
        "outputId": "0f8511ae-8989-45c6-a9db-c99fb6b7e652"
      },
      "outputs": [
        {
          "name": "stdout",
          "output_type": "stream",
          "text": [
            "185.65576171875\n",
            "we are going to use cuda\n",
            "We still have to go 300 epochs\n"
          ]
        },
        {
          "data": {
            "application/vnd.jupyter.widget-view+json": {
              "model_id": "50b0dfb3b3fd4774a15b64e7e1ff47e1",
              "version_major": 2,
              "version_minor": 0
            },
            "text/plain": [
              "HBox(children=(IntProgress(value=0, max=300), HTML(value='')))"
            ]
          },
          "metadata": {},
          "output_type": "display_data"
        },
        {
          "data": {
            "application/vnd.jupyter.widget-view+json": {
              "model_id": "f868f4034478456ca82e2131ff940665",
              "version_major": 2,
              "version_minor": 0
            },
            "text/plain": [
              "HBox(children=(IntProgress(value=0, max=40), HTML(value='')))"
            ]
          },
          "metadata": {},
          "output_type": "display_data"
        },
        {
          "name": "stdout",
          "output_type": "stream",
          "text": [
            "\n",
            "5.588218688964844\n",
            "is here?\n",
            "is here?\n",
            "is here?\n",
            "is here?\n",
            "is here?\n",
            "is here?\n",
            "is here?\n",
            "is here?\n",
            "is here?\n",
            "is here?\n",
            "is here?\n",
            "is here?\n",
            "is here?\n",
            "is here?\n",
            "is here?\n",
            "is here?\n",
            "is here?\n",
            "is here?\n",
            "is here?\n",
            "is here?\n",
            "is here?\n",
            "is here?\n",
            "is here?\n",
            "is here?\n",
            "is here?\n",
            "is here?\n",
            "is here?\n",
            "is here?\n",
            "is here?\n",
            "is here?\n",
            "is here?\n",
            "is here?\n",
            "is here?\n",
            "is here?\n",
            "is here?\n",
            "is here?\n",
            "is here?\n",
            "is here?\n",
            "is here?\n",
            "is here?\n"
          ]
        },
        {
          "data": {
            "application/vnd.jupyter.widget-view+json": {
              "model_id": "de5efe78cb474d77b19f02e20f65e6fc",
              "version_major": 2,
              "version_minor": 0
            },
            "text/plain": [
              "HBox(children=(IntProgress(value=0, max=40), HTML(value='')))"
            ]
          },
          "metadata": {},
          "output_type": "display_data"
        },
        {
          "name": "stdout",
          "output_type": "stream",
          "text": [
            "Successfully saved untill 1 step in ./1th_checkpoint.pt with model, optimizer, and loss.\n"
          ]
        }
      ],
      "source": [
        "##You should run this cell ONLY FIRST TIME!!!\n",
        "##Otherwise It will OverWrite your Checkpoint file.\n",
        "print(torch.cuda.memory_allocated()/1024**2)\n",
        "logs = train_model(model, train_loader, valid_loader, n_iters=300, \n",
        "                    learn_rate=0.1, \n",
        "                    weight_decay=0, which_method=1) \n",
        "\n",
        "#which method \n",
        "# 0: nothing, \n",
        "# 1: cutmix, \n",
        "# 2: mixup \n",
        "# 3: cutout"
      ]
    },
    {
      "cell_type": "code",
      "execution_count": 37,
      "metadata": {},
      "outputs": [
        {
          "data": {
            "text/plain": [
              "[5.588218688964844]"
            ]
          },
          "execution_count": 37,
          "metadata": {},
          "output_type": "execute_result"
        }
      ],
      "source": [
        "checkpoint = torch.load(\"./1th_checkpoint.pt\")\n",
        "checkpoint['train_loss']"
      ]
    },
    {
      "cell_type": "code",
      "execution_count": null,
      "metadata": {},
      "outputs": [
        {
          "data": {
            "application/vnd.jupyter.widget-view+json": {
              "model_id": "65d1d781caf241d69e9a7aeadf6bb917",
              "version_major": 2,
              "version_minor": 0
            },
            "text/plain": [
              "HBox(children=(IntProgress(value=0, max=1), HTML(value='')))"
            ]
          },
          "metadata": {},
          "output_type": "display_data"
        },
        {
          "data": {
            "application/vnd.jupyter.widget-view+json": {
              "model_id": "cec4169e1e8e43079741bcdb865e7e0d",
              "version_major": 2,
              "version_minor": 0
            },
            "text/plain": [
              "HBox(children=(IntProgress(value=0, max=313), HTML(value='')))"
            ]
          },
          "metadata": {},
          "output_type": "display_data"
        },
        {
          "name": "stdout",
          "output_type": "stream",
          "text": [
            "Successfully saved untill 0 step in ./checkpoint.pt with model, optimizer, and loss.\n"
          ]
        },
        {
          "data": {
            "text/plain": [
              "[]"
            ]
          },
          "execution_count": 54,
          "metadata": {},
          "output_type": "execute_result"
        }
      ],
      "source": [
        "## Chek point load 요령 ##\n",
        "PATH=\"_\" ## Where checkpoint saved. ## saved checkpoint\n",
        "\n",
        "train_model(model,\n",
        "            train_loader, \n",
        "            valid_loader,\n",
        "            n_iters=300, \n",
        "            learn_rate=0.1, \n",
        "            resume=PATH,\n",
        "            weight_decay=0, \n",
        "            which_method=1) "
      ]
    },
    {
      "cell_type": "markdown",
      "metadata": {},
      "source": [
        "## Evaluate"
      ]
    },
    {
      "cell_type": "code",
      "execution_count": null,
      "metadata": {},
      "outputs": [],
      "source": [
        "## If train was succeed, let's evaluate it."
      ]
    },
    {
      "cell_type": "code",
      "execution_count": null,
      "metadata": {},
      "outputs": [
        {
          "ename": "NameError",
          "evalue": "name 'torch' is not defined",
          "output_type": "error",
          "traceback": [
            "\u001b[0;31m---------------------------------------------------------------------------\u001b[0m",
            "\u001b[0;31mNameError\u001b[0m                                 Traceback (most recent call last)",
            "\u001b[0;32m<ipython-input-1-2095527dbd38>\u001b[0m in \u001b[0;36m<module>\u001b[0;34m\u001b[0m\n\u001b[1;32m      1\u001b[0m \u001b[0mPATH\u001b[0m\u001b[0;34m=\u001b[0m\u001b[0;34m\"./trained.pt\"\u001b[0m\u001b[0;34m\u001b[0m\u001b[0;34m\u001b[0m\u001b[0m\n\u001b[0;32m----> 2\u001b[0;31m \u001b[0mcheckpoint\u001b[0m \u001b[0;34m=\u001b[0m \u001b[0mtorch\u001b[0m\u001b[0;34m.\u001b[0m\u001b[0mload\u001b[0m\u001b[0;34m(\u001b[0m\u001b[0mPATH\u001b[0m\u001b[0;34m)\u001b[0m\u001b[0;34m\u001b[0m\u001b[0;34m\u001b[0m\u001b[0m\n\u001b[0m\u001b[1;32m      3\u001b[0m \u001b[0mmodel\u001b[0m\u001b[0;34m.\u001b[0m\u001b[0mload_state_dict\u001b[0m\u001b[0;34m(\u001b[0m\u001b[0mcheckpoint\u001b[0m\u001b[0;34m[\u001b[0m\u001b[0;34m'model_state_dict'\u001b[0m\u001b[0;34m]\u001b[0m\u001b[0;34m)\u001b[0m\u001b[0;34m\u001b[0m\u001b[0;34m\u001b[0m\u001b[0m\n\u001b[1;32m      4\u001b[0m \u001b[0mmodel\u001b[0m\u001b[0;34m.\u001b[0m\u001b[0meval\u001b[0m\u001b[0;34m(\u001b[0m\u001b[0;34m)\u001b[0m\u001b[0;34m\u001b[0m\u001b[0;34m\u001b[0m\u001b[0m\n\u001b[1;32m      5\u001b[0m \u001b[0msum_top1\u001b[0m\u001b[0;34m,\u001b[0m \u001b[0msum_top5\u001b[0m \u001b[0;34m=\u001b[0m \u001b[0;36m0\u001b[0m\u001b[0;34m,\u001b[0m\u001b[0;36m0\u001b[0m\u001b[0;34m\u001b[0m\u001b[0;34m\u001b[0m\u001b[0m\n",
            "\u001b[0;31mNameError\u001b[0m: name 'torch' is not defined"
          ]
        }
      ],
      "source": [
        "PATH=\"./trained.pt\"\n",
        "checkpoint = torch.load(PATH) \n",
        "model.load_state_dict(checkpoint['model_state_dict'])\n",
        "model.eval()\n",
        "sum_top1, sum_top5 = 0,0\n",
        "\n",
        "for images, labels in valid_loader :\n",
        "    images,labels = images.to(device), labels.to(device)\n",
        "    output = model(images)\n",
        "    top1, top5 = accuracy(output, labels, topk=(1,5))\n",
        "    sum_top1+=top1.item()\n",
        "    sum_top5+=top5.item()\n",
        "\n",
        "size = len(valid_loader)\n",
        "\n",
        "print(sum_top1/size, sum_top5/size)"
      ]
    },
    {
      "cell_type": "code",
      "execution_count": null,
      "metadata": {},
      "outputs": [
        {
          "data": {
            "text/plain": [
              "[39.275, 38.73]"
            ]
          },
          "execution_count": 55,
          "metadata": {},
          "output_type": "execute_result"
        }
      ],
      "source": [
        "checkpoint['top1_err']"
      ]
    },
    {
      "cell_type": "markdown",
      "metadata": {
        "id": "qjIZkMAc2ip0"
      },
      "source": [
        "https://github.com/facebookresearch/mixup-cifar10/blob/main/train.py"
      ]
    }
  ],
  "metadata": {
    "colab": {
      "authorship_tag": "ABX9TyOVuYdjrTigByA44KtPZn6u",
      "collapsed_sections": [],
      "include_colab_link": true,
      "name": "CutMix_baseline_tinyImagenet.ipynb",
      "provenance": []
    },
    "interpreter": {
      "hash": "61a57a4b5406d2de388e2f91097d4e4bcd7d5f4a46f53a795aa28a02eed27fc5"
    },
    "kernelspec": {
      "display_name": "Python 3.7.4 ('base')",
      "language": "python",
      "name": "python3"
    },
    "language_info": {
      "codemirror_mode": {
        "name": "ipython",
        "version": 3
      },
      "file_extension": ".py",
      "mimetype": "text/x-python",
      "name": "python",
      "nbconvert_exporter": "python",
      "pygments_lexer": "ipython3",
      "version": "3.7.4"
    },
    "widgets": {
      "application/vnd.jupyter.widget-state+json": {
        "15613b9786a74da4a75e5f39ec874292": {
          "model_module": "@jupyter-widgets/controls",
          "model_module_version": "1.5.0",
          "model_name": "HTMLModel",
          "state": {
            "_dom_classes": [],
            "_model_module": "@jupyter-widgets/controls",
            "_model_module_version": "1.5.0",
            "_model_name": "HTMLModel",
            "_view_count": null,
            "_view_module": "@jupyter-widgets/controls",
            "_view_module_version": "1.5.0",
            "_view_name": "HTMLView",
            "description": "",
            "description_tooltip": null,
            "layout": "IPY_MODEL_87876da5cac4496bb04bf78a0760d5af",
            "placeholder": "​",
            "style": "IPY_MODEL_6de3836937bf443c90e171d398cfafeb",
            "value": " 0/313 [00:00&lt;?, ?it/s]"
          }
        },
        "1e08bd0f767542ada7218e74742198e4": {
          "model_module": "@jupyter-widgets/controls",
          "model_module_version": "1.5.0",
          "model_name": "FloatProgressModel",
          "state": {
            "_dom_classes": [],
            "_model_module": "@jupyter-widgets/controls",
            "_model_module_version": "1.5.0",
            "_model_name": "FloatProgressModel",
            "_view_count": null,
            "_view_module": "@jupyter-widgets/controls",
            "_view_module_version": "1.5.0",
            "_view_name": "ProgressView",
            "bar_style": "danger",
            "description": "",
            "description_tooltip": null,
            "layout": "IPY_MODEL_a0b192006de24ba9b02c994c63cae150",
            "max": 313,
            "min": 0,
            "orientation": "horizontal",
            "style": "IPY_MODEL_db63d46940b848baac5e14942ff78a6a",
            "value": 0
          }
        },
        "2547b1f8bcf94a5a97ed5c9e7a55f075": {
          "model_module": "@jupyter-widgets/controls",
          "model_module_version": "1.5.0",
          "model_name": "DescriptionStyleModel",
          "state": {
            "_model_module": "@jupyter-widgets/controls",
            "_model_module_version": "1.5.0",
            "_model_name": "DescriptionStyleModel",
            "_view_count": null,
            "_view_module": "@jupyter-widgets/base",
            "_view_module_version": "1.2.0",
            "_view_name": "StyleView",
            "description_width": ""
          }
        },
        "26ba3c6f7ac5458586d61392e6b08481": {
          "model_module": "@jupyter-widgets/controls",
          "model_module_version": "1.5.0",
          "model_name": "HBoxModel",
          "state": {
            "_dom_classes": [],
            "_model_module": "@jupyter-widgets/controls",
            "_model_module_version": "1.5.0",
            "_model_name": "HBoxModel",
            "_view_count": null,
            "_view_module": "@jupyter-widgets/controls",
            "_view_module_version": "1.5.0",
            "_view_name": "HBoxView",
            "box_style": "",
            "children": [
              "IPY_MODEL_d67e910d390f468681ed63c75e3ba377",
              "IPY_MODEL_9539ccefb8e84c07a37b203c71538b1b",
              "IPY_MODEL_6f1391c8413842558f690f241d6344a9"
            ],
            "layout": "IPY_MODEL_93ad2359c2684c519b196d8fb48ccd88"
          }
        },
        "26e3c8fe692a4ae099e7a29c16f1a4b0": {
          "model_module": "@jupyter-widgets/base",
          "model_module_version": "1.2.0",
          "model_name": "LayoutModel",
          "state": {
            "_model_module": "@jupyter-widgets/base",
            "_model_module_version": "1.2.0",
            "_model_name": "LayoutModel",
            "_view_count": null,
            "_view_module": "@jupyter-widgets/base",
            "_view_module_version": "1.2.0",
            "_view_name": "LayoutView",
            "align_content": null,
            "align_items": null,
            "align_self": null,
            "border": null,
            "bottom": null,
            "display": null,
            "flex": null,
            "flex_flow": null,
            "grid_area": null,
            "grid_auto_columns": null,
            "grid_auto_flow": null,
            "grid_auto_rows": null,
            "grid_column": null,
            "grid_gap": null,
            "grid_row": null,
            "grid_template_areas": null,
            "grid_template_columns": null,
            "grid_template_rows": null,
            "height": null,
            "justify_content": null,
            "justify_items": null,
            "left": null,
            "margin": null,
            "max_height": null,
            "max_width": null,
            "min_height": null,
            "min_width": null,
            "object_fit": null,
            "object_position": null,
            "order": null,
            "overflow": null,
            "overflow_x": null,
            "overflow_y": null,
            "padding": null,
            "right": null,
            "top": null,
            "visibility": null,
            "width": null
          }
        },
        "3f3cb5656ebe4f6596753e638b32656b": {
          "model_module": "@jupyter-widgets/controls",
          "model_module_version": "1.5.0",
          "model_name": "HBoxModel",
          "state": {
            "_dom_classes": [],
            "_model_module": "@jupyter-widgets/controls",
            "_model_module_version": "1.5.0",
            "_model_name": "HBoxModel",
            "_view_count": null,
            "_view_module": "@jupyter-widgets/controls",
            "_view_module_version": "1.5.0",
            "_view_name": "HBoxView",
            "box_style": "",
            "children": [
              "IPY_MODEL_a934feaa872d4b77984a814cc8ad5319",
              "IPY_MODEL_1e08bd0f767542ada7218e74742198e4",
              "IPY_MODEL_15613b9786a74da4a75e5f39ec874292"
            ],
            "layout": "IPY_MODEL_de47dd68f51441e09916b5f02512c09e"
          }
        },
        "6de3836937bf443c90e171d398cfafeb": {
          "model_module": "@jupyter-widgets/controls",
          "model_module_version": "1.5.0",
          "model_name": "DescriptionStyleModel",
          "state": {
            "_model_module": "@jupyter-widgets/controls",
            "_model_module_version": "1.5.0",
            "_model_name": "DescriptionStyleModel",
            "_view_count": null,
            "_view_module": "@jupyter-widgets/base",
            "_view_module_version": "1.2.0",
            "_view_name": "StyleView",
            "description_width": ""
          }
        },
        "6f1391c8413842558f690f241d6344a9": {
          "model_module": "@jupyter-widgets/controls",
          "model_module_version": "1.5.0",
          "model_name": "HTMLModel",
          "state": {
            "_dom_classes": [],
            "_model_module": "@jupyter-widgets/controls",
            "_model_module_version": "1.5.0",
            "_model_name": "HTMLModel",
            "_view_count": null,
            "_view_module": "@jupyter-widgets/controls",
            "_view_module_version": "1.5.0",
            "_view_name": "HTMLView",
            "description": "",
            "description_tooltip": null,
            "layout": "IPY_MODEL_26e3c8fe692a4ae099e7a29c16f1a4b0",
            "placeholder": "​",
            "style": "IPY_MODEL_2547b1f8bcf94a5a97ed5c9e7a55f075",
            "value": " 0/3 [01:43&lt;?, ?it/s]"
          }
        },
        "7d97c0892d1c42749fceb25d9382aaf4": {
          "model_module": "@jupyter-widgets/controls",
          "model_module_version": "1.5.0",
          "model_name": "DescriptionStyleModel",
          "state": {
            "_model_module": "@jupyter-widgets/controls",
            "_model_module_version": "1.5.0",
            "_model_name": "DescriptionStyleModel",
            "_view_count": null,
            "_view_module": "@jupyter-widgets/base",
            "_view_module_version": "1.2.0",
            "_view_name": "StyleView",
            "description_width": ""
          }
        },
        "87876da5cac4496bb04bf78a0760d5af": {
          "model_module": "@jupyter-widgets/base",
          "model_module_version": "1.2.0",
          "model_name": "LayoutModel",
          "state": {
            "_model_module": "@jupyter-widgets/base",
            "_model_module_version": "1.2.0",
            "_model_name": "LayoutModel",
            "_view_count": null,
            "_view_module": "@jupyter-widgets/base",
            "_view_module_version": "1.2.0",
            "_view_name": "LayoutView",
            "align_content": null,
            "align_items": null,
            "align_self": null,
            "border": null,
            "bottom": null,
            "display": null,
            "flex": null,
            "flex_flow": null,
            "grid_area": null,
            "grid_auto_columns": null,
            "grid_auto_flow": null,
            "grid_auto_rows": null,
            "grid_column": null,
            "grid_gap": null,
            "grid_row": null,
            "grid_template_areas": null,
            "grid_template_columns": null,
            "grid_template_rows": null,
            "height": null,
            "justify_content": null,
            "justify_items": null,
            "left": null,
            "margin": null,
            "max_height": null,
            "max_width": null,
            "min_height": null,
            "min_width": null,
            "object_fit": null,
            "object_position": null,
            "order": null,
            "overflow": null,
            "overflow_x": null,
            "overflow_y": null,
            "padding": null,
            "right": null,
            "top": null,
            "visibility": null,
            "width": null
          }
        },
        "8c361305ce90418b9e73ff8298c4764f": {
          "model_module": "@jupyter-widgets/base",
          "model_module_version": "1.2.0",
          "model_name": "LayoutModel",
          "state": {
            "_model_module": "@jupyter-widgets/base",
            "_model_module_version": "1.2.0",
            "_model_name": "LayoutModel",
            "_view_count": null,
            "_view_module": "@jupyter-widgets/base",
            "_view_module_version": "1.2.0",
            "_view_name": "LayoutView",
            "align_content": null,
            "align_items": null,
            "align_self": null,
            "border": null,
            "bottom": null,
            "display": null,
            "flex": null,
            "flex_flow": null,
            "grid_area": null,
            "grid_auto_columns": null,
            "grid_auto_flow": null,
            "grid_auto_rows": null,
            "grid_column": null,
            "grid_gap": null,
            "grid_row": null,
            "grid_template_areas": null,
            "grid_template_columns": null,
            "grid_template_rows": null,
            "height": null,
            "justify_content": null,
            "justify_items": null,
            "left": null,
            "margin": null,
            "max_height": null,
            "max_width": null,
            "min_height": null,
            "min_width": null,
            "object_fit": null,
            "object_position": null,
            "order": null,
            "overflow": null,
            "overflow_x": null,
            "overflow_y": null,
            "padding": null,
            "right": null,
            "top": null,
            "visibility": null,
            "width": null
          }
        },
        "93ad2359c2684c519b196d8fb48ccd88": {
          "model_module": "@jupyter-widgets/base",
          "model_module_version": "1.2.0",
          "model_name": "LayoutModel",
          "state": {
            "_model_module": "@jupyter-widgets/base",
            "_model_module_version": "1.2.0",
            "_model_name": "LayoutModel",
            "_view_count": null,
            "_view_module": "@jupyter-widgets/base",
            "_view_module_version": "1.2.0",
            "_view_name": "LayoutView",
            "align_content": null,
            "align_items": null,
            "align_self": null,
            "border": null,
            "bottom": null,
            "display": null,
            "flex": null,
            "flex_flow": null,
            "grid_area": null,
            "grid_auto_columns": null,
            "grid_auto_flow": null,
            "grid_auto_rows": null,
            "grid_column": null,
            "grid_gap": null,
            "grid_row": null,
            "grid_template_areas": null,
            "grid_template_columns": null,
            "grid_template_rows": null,
            "height": null,
            "justify_content": null,
            "justify_items": null,
            "left": null,
            "margin": null,
            "max_height": null,
            "max_width": null,
            "min_height": null,
            "min_width": null,
            "object_fit": null,
            "object_position": null,
            "order": null,
            "overflow": null,
            "overflow_x": null,
            "overflow_y": null,
            "padding": null,
            "right": null,
            "top": null,
            "visibility": null,
            "width": null
          }
        },
        "9539ccefb8e84c07a37b203c71538b1b": {
          "model_module": "@jupyter-widgets/controls",
          "model_module_version": "1.5.0",
          "model_name": "FloatProgressModel",
          "state": {
            "_dom_classes": [],
            "_model_module": "@jupyter-widgets/controls",
            "_model_module_version": "1.5.0",
            "_model_name": "FloatProgressModel",
            "_view_count": null,
            "_view_module": "@jupyter-widgets/controls",
            "_view_module_version": "1.5.0",
            "_view_name": "ProgressView",
            "bar_style": "danger",
            "description": "",
            "description_tooltip": null,
            "layout": "IPY_MODEL_8c361305ce90418b9e73ff8298c4764f",
            "max": 3,
            "min": 0,
            "orientation": "horizontal",
            "style": "IPY_MODEL_ab26faab1c2e4d289be7c16be208f565",
            "value": 0
          }
        },
        "a0b192006de24ba9b02c994c63cae150": {
          "model_module": "@jupyter-widgets/base",
          "model_module_version": "1.2.0",
          "model_name": "LayoutModel",
          "state": {
            "_model_module": "@jupyter-widgets/base",
            "_model_module_version": "1.2.0",
            "_model_name": "LayoutModel",
            "_view_count": null,
            "_view_module": "@jupyter-widgets/base",
            "_view_module_version": "1.2.0",
            "_view_name": "LayoutView",
            "align_content": null,
            "align_items": null,
            "align_self": null,
            "border": null,
            "bottom": null,
            "display": null,
            "flex": null,
            "flex_flow": null,
            "grid_area": null,
            "grid_auto_columns": null,
            "grid_auto_flow": null,
            "grid_auto_rows": null,
            "grid_column": null,
            "grid_gap": null,
            "grid_row": null,
            "grid_template_areas": null,
            "grid_template_columns": null,
            "grid_template_rows": null,
            "height": null,
            "justify_content": null,
            "justify_items": null,
            "left": null,
            "margin": null,
            "max_height": null,
            "max_width": null,
            "min_height": null,
            "min_width": null,
            "object_fit": null,
            "object_position": null,
            "order": null,
            "overflow": null,
            "overflow_x": null,
            "overflow_y": null,
            "padding": null,
            "right": null,
            "top": null,
            "visibility": null,
            "width": null
          }
        },
        "a6916a8ddf254bcc9641d17e1c14f0c2": {
          "model_module": "@jupyter-widgets/base",
          "model_module_version": "1.2.0",
          "model_name": "LayoutModel",
          "state": {
            "_model_module": "@jupyter-widgets/base",
            "_model_module_version": "1.2.0",
            "_model_name": "LayoutModel",
            "_view_count": null,
            "_view_module": "@jupyter-widgets/base",
            "_view_module_version": "1.2.0",
            "_view_name": "LayoutView",
            "align_content": null,
            "align_items": null,
            "align_self": null,
            "border": null,
            "bottom": null,
            "display": null,
            "flex": null,
            "flex_flow": null,
            "grid_area": null,
            "grid_auto_columns": null,
            "grid_auto_flow": null,
            "grid_auto_rows": null,
            "grid_column": null,
            "grid_gap": null,
            "grid_row": null,
            "grid_template_areas": null,
            "grid_template_columns": null,
            "grid_template_rows": null,
            "height": null,
            "justify_content": null,
            "justify_items": null,
            "left": null,
            "margin": null,
            "max_height": null,
            "max_width": null,
            "min_height": null,
            "min_width": null,
            "object_fit": null,
            "object_position": null,
            "order": null,
            "overflow": null,
            "overflow_x": null,
            "overflow_y": null,
            "padding": null,
            "right": null,
            "top": null,
            "visibility": null,
            "width": null
          }
        },
        "a934feaa872d4b77984a814cc8ad5319": {
          "model_module": "@jupyter-widgets/controls",
          "model_module_version": "1.5.0",
          "model_name": "HTMLModel",
          "state": {
            "_dom_classes": [],
            "_model_module": "@jupyter-widgets/controls",
            "_model_module_version": "1.5.0",
            "_model_name": "HTMLModel",
            "_view_count": null,
            "_view_module": "@jupyter-widgets/controls",
            "_view_module_version": "1.5.0",
            "_view_name": "HTMLView",
            "description": "",
            "description_tooltip": null,
            "layout": "IPY_MODEL_a6916a8ddf254bcc9641d17e1c14f0c2",
            "placeholder": "​",
            "style": "IPY_MODEL_ba3adfc10833412c85202dd1f156d298",
            "value": "  0%"
          }
        },
        "ab26faab1c2e4d289be7c16be208f565": {
          "model_module": "@jupyter-widgets/controls",
          "model_module_version": "1.5.0",
          "model_name": "ProgressStyleModel",
          "state": {
            "_model_module": "@jupyter-widgets/controls",
            "_model_module_version": "1.5.0",
            "_model_name": "ProgressStyleModel",
            "_view_count": null,
            "_view_module": "@jupyter-widgets/base",
            "_view_module_version": "1.2.0",
            "_view_name": "StyleView",
            "bar_color": null,
            "description_width": ""
          }
        },
        "ba3adfc10833412c85202dd1f156d298": {
          "model_module": "@jupyter-widgets/controls",
          "model_module_version": "1.5.0",
          "model_name": "DescriptionStyleModel",
          "state": {
            "_model_module": "@jupyter-widgets/controls",
            "_model_module_version": "1.5.0",
            "_model_name": "DescriptionStyleModel",
            "_view_count": null,
            "_view_module": "@jupyter-widgets/base",
            "_view_module_version": "1.2.0",
            "_view_name": "StyleView",
            "description_width": ""
          }
        },
        "d67e910d390f468681ed63c75e3ba377": {
          "model_module": "@jupyter-widgets/controls",
          "model_module_version": "1.5.0",
          "model_name": "HTMLModel",
          "state": {
            "_dom_classes": [],
            "_model_module": "@jupyter-widgets/controls",
            "_model_module_version": "1.5.0",
            "_model_name": "HTMLModel",
            "_view_count": null,
            "_view_module": "@jupyter-widgets/controls",
            "_view_module_version": "1.5.0",
            "_view_name": "HTMLView",
            "description": "",
            "description_tooltip": null,
            "layout": "IPY_MODEL_fba5630295924523a59614f2a59aa2a0",
            "placeholder": "​",
            "style": "IPY_MODEL_7d97c0892d1c42749fceb25d9382aaf4",
            "value": "  0%"
          }
        },
        "db63d46940b848baac5e14942ff78a6a": {
          "model_module": "@jupyter-widgets/controls",
          "model_module_version": "1.5.0",
          "model_name": "ProgressStyleModel",
          "state": {
            "_model_module": "@jupyter-widgets/controls",
            "_model_module_version": "1.5.0",
            "_model_name": "ProgressStyleModel",
            "_view_count": null,
            "_view_module": "@jupyter-widgets/base",
            "_view_module_version": "1.2.0",
            "_view_name": "StyleView",
            "bar_color": null,
            "description_width": ""
          }
        },
        "de47dd68f51441e09916b5f02512c09e": {
          "model_module": "@jupyter-widgets/base",
          "model_module_version": "1.2.0",
          "model_name": "LayoutModel",
          "state": {
            "_model_module": "@jupyter-widgets/base",
            "_model_module_version": "1.2.0",
            "_model_name": "LayoutModel",
            "_view_count": null,
            "_view_module": "@jupyter-widgets/base",
            "_view_module_version": "1.2.0",
            "_view_name": "LayoutView",
            "align_content": null,
            "align_items": null,
            "align_self": null,
            "border": null,
            "bottom": null,
            "display": null,
            "flex": null,
            "flex_flow": null,
            "grid_area": null,
            "grid_auto_columns": null,
            "grid_auto_flow": null,
            "grid_auto_rows": null,
            "grid_column": null,
            "grid_gap": null,
            "grid_row": null,
            "grid_template_areas": null,
            "grid_template_columns": null,
            "grid_template_rows": null,
            "height": null,
            "justify_content": null,
            "justify_items": null,
            "left": null,
            "margin": null,
            "max_height": null,
            "max_width": null,
            "min_height": null,
            "min_width": null,
            "object_fit": null,
            "object_position": null,
            "order": null,
            "overflow": null,
            "overflow_x": null,
            "overflow_y": null,
            "padding": null,
            "right": null,
            "top": null,
            "visibility": null,
            "width": null
          }
        },
        "fba5630295924523a59614f2a59aa2a0": {
          "model_module": "@jupyter-widgets/base",
          "model_module_version": "1.2.0",
          "model_name": "LayoutModel",
          "state": {
            "_model_module": "@jupyter-widgets/base",
            "_model_module_version": "1.2.0",
            "_model_name": "LayoutModel",
            "_view_count": null,
            "_view_module": "@jupyter-widgets/base",
            "_view_module_version": "1.2.0",
            "_view_name": "LayoutView",
            "align_content": null,
            "align_items": null,
            "align_self": null,
            "border": null,
            "bottom": null,
            "display": null,
            "flex": null,
            "flex_flow": null,
            "grid_area": null,
            "grid_auto_columns": null,
            "grid_auto_flow": null,
            "grid_auto_rows": null,
            "grid_column": null,
            "grid_gap": null,
            "grid_row": null,
            "grid_template_areas": null,
            "grid_template_columns": null,
            "grid_template_rows": null,
            "height": null,
            "justify_content": null,
            "justify_items": null,
            "left": null,
            "margin": null,
            "max_height": null,
            "max_width": null,
            "min_height": null,
            "min_width": null,
            "object_fit": null,
            "object_position": null,
            "order": null,
            "overflow": null,
            "overflow_x": null,
            "overflow_y": null,
            "padding": null,
            "right": null,
            "top": null,
            "visibility": null,
            "width": null
          }
        }
      }
    }
  },
  "nbformat": 4,
  "nbformat_minor": 0
}
