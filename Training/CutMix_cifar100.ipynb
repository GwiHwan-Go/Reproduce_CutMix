{
 "cells": [
  {
   "cell_type": "code",
   "execution_count": null,
   "metadata": {},
   "outputs": [],
   "source": [
    "train_loader = torch.utils.data.DataLoader(\n",
    "    datasets.CIFAR100('../data', train=True, download=True, transform=transform_train),\n",
    "    batch_size=args.batch_size, shuffle=True, num_workers=args.workers, pin_memory=True)\n",
    "val_loader = torch.utils.data.DataLoader(\n",
    "    datasets.CIFAR100('../data', train=False, transform=transform_test),\n",
    "    batch_size=args.batch_size, shuffle=True, num_workers=args.workers, pin_memory=True)\n",
    "numberofclass = 100"
   ]
  },
  {
   "cell_type": "markdown",
   "metadata": {},
   "source": []
  }
 ],
 "metadata": {
  "language_info": {
   "name": "python"
  },
  "orig_nbformat": 4
 },
 "nbformat": 4,
 "nbformat_minor": 2
}
