{
 "cells": [
  {
   "cell_type": "code",
   "execution_count": 3,
   "metadata": {},
   "outputs": [],
   "source": [
    "import pandas as pd\n",
    "import numpy as np\n",
    "import matplotlib.pyplot as plt\n",
    "import joblib\n",
    "from tqdm import tqdm\n",
    "import os\n",
    "########## YOUR DIR\n",
    "import sys\n",
    "sys.path.append(\"..\") ## to import parent's folder\n",
    "from Local import DIR ###You HAVE TO SET YOUR DIRECORY as DIR\n",
    "########### YOUR DIR"
   ]
  },
  {
   "cell_type": "code",
   "execution_count": 8,
   "metadata": {},
   "outputs": [
    {
     "name": "stdout",
     "output_type": "stream",
     "text": [
      "folder has created in /Users/gwihwango/.kaggle/train_images\n"
     ]
    },
    {
     "name": "stderr",
     "output_type": "stream",
     "text": [
      "100%|██████████| 50210/50210 [01:03<00:00, 792.29it/s]\n",
      "100%|██████████| 50210/50210 [01:29<00:00, 559.05it/s]\n",
      "100%|██████████| 50210/50210 [01:13<00:00, 687.24it/s]\n",
      "100%|██████████| 50210/50210 [02:13<00:00, 376.94it/s]\n"
     ]
    }
   ],
   "source": [
    "files_train = [f'train_image_data_{fid}.parquet' for fid in range(4)]\n",
    "folder_path = f\"{DIR}/train_images\"\n",
    "if os.path.exists(folder_path)!=True :\n",
    "    print(f\"folder has created in {folder_path}\")\n",
    "    os.system(f\"mkdir {folder_path}\")\n",
    "\n",
    "for fname in files_train:\n",
    "    F = os.path.join(DIR+'/', fname) \n",
    "    df_train = pd.read_parquet(F)\n",
    "    img_ids = df_train['image_id'].values\n",
    "    img_array = df_train.iloc[:, 1:].values\n",
    "    for idx in tqdm(range(len(df_train))):\n",
    "        img_id = img_ids[idx]\n",
    "        img = img_array[idx]\n",
    "        joblib.dump(img, f\"{folder_path}/{img_id}.pkl\")"
   ]
  },
  {
   "cell_type": "markdown",
   "metadata": {},
   "source": [
    "Through this code,\n",
    "You will have the \"train_images\" folder in the directory.\n",
    "Fianlly, we are ready to work on training."
   ]
  }
 ],
 "metadata": {
  "interpreter": {
   "hash": "31f2aee4e71d21fbe5cf8b01ff0e069b9275f58929596ceb00d14d90e3e16cd6"
  },
  "kernelspec": {
   "display_name": "first-env",
   "language": "python",
   "name": "env_name"
  },
  "language_info": {
   "codemirror_mode": {
    "name": "ipython",
    "version": 3
   },
   "file_extension": ".py",
   "mimetype": "text/x-python",
   "name": "python",
   "nbconvert_exporter": "python",
   "pygments_lexer": "ipython3",
   "version": "3.7.3"
  },
  "orig_nbformat": 4
 },
 "nbformat": 4,
 "nbformat_minor": 2
}
